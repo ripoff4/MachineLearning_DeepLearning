{
  "nbformat": 4,
  "nbformat_minor": 0,
  "metadata": {
    "colab": {
      "provenance": []
    },
    "kernelspec": {
      "name": "python3",
      "display_name": "Python 3"
    },
    "language_info": {
      "name": "python"
    }
  },
  "cells": [
    {
      "cell_type": "markdown",
      "source": [
        "Using NLTk"
      ],
      "metadata": {
        "id": "TMX7gWBIFbjO"
      }
    },
    {
      "cell_type": "code",
      "execution_count": 1,
      "metadata": {
        "colab": {
          "base_uri": "https://localhost:8080/"
        },
        "id": "w60KMyIhE0BU",
        "outputId": "c98dfca8-6ebc-4071-a0ef-160d66947d50"
      },
      "outputs": [
        {
          "output_type": "stream",
          "name": "stdout",
          "text": [
            "Requirement already satisfied: nltk in /usr/local/lib/python3.11/dist-packages (3.9.1)\n",
            "Requirement already satisfied: click in /usr/local/lib/python3.11/dist-packages (from nltk) (8.2.1)\n",
            "Requirement already satisfied: joblib in /usr/local/lib/python3.11/dist-packages (from nltk) (1.5.1)\n",
            "Requirement already satisfied: regex>=2021.8.3 in /usr/local/lib/python3.11/dist-packages (from nltk) (2024.11.6)\n",
            "Requirement already satisfied: tqdm in /usr/local/lib/python3.11/dist-packages (from nltk) (4.67.1)\n"
          ]
        }
      ],
      "source": [
        "!pip install nltk"
      ]
    },
    {
      "cell_type": "code",
      "source": [
        "import nltk\n",
        "from nltk.tokenize import word_tokenize,sent_tokenize\n",
        "from nltk.stem import WordNetLemmatizer\n",
        "from nltk.corpus import stopwords,wordnet"
      ],
      "metadata": {
        "id": "xjWKYY9RFgor"
      },
      "execution_count": 6,
      "outputs": []
    },
    {
      "cell_type": "code",
      "source": [
        "nltk.download('punkt_tab')\n",
        "nltk.download('wordnet')\n",
        "nltk.download('stopwords')\n",
        "nltk.download(\"averaged_perceptron_tagger_eng\")"
      ],
      "metadata": {
        "colab": {
          "base_uri": "https://localhost:8080/"
        },
        "id": "qTFH8OAQFpd6",
        "outputId": "2ed3e8df-93ed-4427-863f-4e87d598702f"
      },
      "execution_count": 15,
      "outputs": [
        {
          "output_type": "stream",
          "name": "stderr",
          "text": [
            "[nltk_data] Downloading package punkt_tab to /root/nltk_data...\n",
            "[nltk_data]   Package punkt_tab is already up-to-date!\n",
            "[nltk_data] Downloading package wordnet to /root/nltk_data...\n",
            "[nltk_data]   Package wordnet is already up-to-date!\n",
            "[nltk_data] Downloading package stopwords to /root/nltk_data...\n",
            "[nltk_data]   Package stopwords is already up-to-date!\n",
            "[nltk_data] Downloading package averaged_perceptron_tagger_eng to\n",
            "[nltk_data]     /root/nltk_data...\n",
            "[nltk_data]   Unzipping taggers/averaged_perceptron_tagger_eng.zip.\n"
          ]
        },
        {
          "output_type": "execute_result",
          "data": {
            "text/plain": [
              "True"
            ]
          },
          "metadata": {},
          "execution_count": 15
        }
      ]
    },
    {
      "cell_type": "code",
      "source": [
        "def wordnet_tag(tag):\n",
        "  if tag.startswith('J'):\n",
        "    return wordnet.ADJ\n",
        "  elif tag.startswith('V'):\n",
        "    return wordnet.VERB\n",
        "  elif tag.startswith('N'):\n",
        "    return wordnet.NOUN\n",
        "  elif tag.startswith('R'):\n",
        "    return wordnet.ADV\n",
        "  else:\n",
        "    return wordnet.NOUN"
      ],
      "metadata": {
        "id": "bKFw6nTOFw1y"
      },
      "execution_count": 5,
      "outputs": []
    },
    {
      "cell_type": "code",
      "source": [
        "text = '''When you wake from a troubled sleep,\n",
        "     after you’ve used the bathroom, don’t go back.\n",
        "Walk down the hall and push her hollow-core\n",
        "     door open. She’ll be there, smaller than the last time\n",
        "you visited her, sitting on the side of the bed\n",
        "     having just used her commode. Before\n",
        "she can ask, walk to it and lift the cover,\n",
        "     then the seat. Pull out the bucket that holds\n",
        "her still warm urine, take it to her bathroom,\n",
        "     empty it in the toilet. Wipe it out. Rinse it. Dry it.\n",
        "Spray it with lavender-scented Lysol. Return it\n",
        "     to the O-ring. Cover it. Lower the seat and lid.\n",
        "Accept what love is now the wars have ended.\n",
        "     Say, do you need anything else?\n",
        "She’ll say, I could’ve done it myself, and it’s true\n",
        "     but she’s fallen so many times from her glaucoma\n",
        "or vertigo or both. Unwilling to wait, she’s tipped\n",
        "     the bucket—urine all over the tile and the rug—\n",
        "half a day’s cleaning for her aide after lifting her\n",
        "     from the floor.\n",
        "Just smile and ask, do you want help with the bed?\n",
        "     And together begin to stretch the rumpled sheets\n",
        "in place, then the coverlet and the coral crocheted\n",
        "     afghan you made that rests near the edge.\n",
        "Replace the pillows. Then help her bent body inch\n",
        "     toward the wheelchair. It’s time for her shower.\n",
        "Today, you’ll do this together like two women in a\n",
        "     French painting. Her dentures she’ll clean on her own.'''"
      ],
      "metadata": {
        "id": "cgAeXbcLGqFM"
      },
      "execution_count": 7,
      "outputs": []
    },
    {
      "cell_type": "code",
      "source": [
        "stop_words = stopwords.words('english')"
      ],
      "metadata": {
        "id": "qUPiacjzG3aF"
      },
      "execution_count": 8,
      "outputs": []
    },
    {
      "cell_type": "code",
      "source": [
        "lemmatizer = WordNetLemmatizer()"
      ],
      "metadata": {
        "id": "6yxacz47HD6m"
      },
      "execution_count": 9,
      "outputs": []
    },
    {
      "cell_type": "code",
      "source": [
        "bow = []\n",
        "sentences = sent_tokenize(text)\n",
        "for sentence in sentences:\n",
        "  words = word_tokenize(sentence)\n",
        "  tagged_words = nltk.pos_tag(words)\n",
        "  for words,tag in tagged_words:\n",
        "    if words not in stop_words:\n",
        "      lemmaword = lemmatizer.lemmatize(words,pos=wordnet_tag(tag))\n",
        "      bow.append(lemmaword)"
      ],
      "metadata": {
        "id": "rlILDq-pGHMf"
      },
      "execution_count": 16,
      "outputs": []
    },
    {
      "cell_type": "code",
      "source": [
        "print(lemmatizer.lemmatize('wake',pos='v'))"
      ],
      "metadata": {
        "colab": {
          "base_uri": "https://localhost:8080/"
        },
        "id": "zdZFTFQ4IGqO",
        "outputId": "13333822-9b30-4c20-97c8-c9860e1ec3fc"
      },
      "execution_count": 24,
      "outputs": [
        {
          "output_type": "stream",
          "name": "stdout",
          "text": [
            "wake\n"
          ]
        }
      ]
    },
    {
      "cell_type": "code",
      "source": [
        "bow"
      ],
      "metadata": {
        "colab": {
          "base_uri": "https://localhost:8080/"
        },
        "collapsed": true,
        "id": "JU-l7qKgHtmb",
        "outputId": "8cf18705-3ed9-4f99-eb13-2bc1cd340991"
      },
      "execution_count": 17,
      "outputs": [
        {
          "output_type": "execute_result",
          "data": {
            "text/plain": [
              "['When',\n",
              " 'wake',\n",
              " 'troubled',\n",
              " 'sleep',\n",
              " ',',\n",
              " '’',\n",
              " 'use',\n",
              " 'bathroom',\n",
              " ',',\n",
              " '’',\n",
              " 'go',\n",
              " 'back',\n",
              " '.',\n",
              " 'Walk',\n",
              " 'hall',\n",
              " 'push',\n",
              " 'hollow-core',\n",
              " 'door',\n",
              " 'open',\n",
              " '.',\n",
              " 'She',\n",
              " '’',\n",
              " ',',\n",
              " 'small',\n",
              " 'last',\n",
              " 'time',\n",
              " 'visit',\n",
              " ',',\n",
              " 'sit',\n",
              " 'side',\n",
              " 'bed',\n",
              " 'use',\n",
              " 'commode',\n",
              " '.',\n",
              " 'Before',\n",
              " 'ask',\n",
              " ',',\n",
              " 'walk',\n",
              " 'lift',\n",
              " 'cover',\n",
              " ',',\n",
              " 'seat',\n",
              " '.',\n",
              " 'Pull',\n",
              " 'bucket',\n",
              " 'hold',\n",
              " 'still',\n",
              " 'warm',\n",
              " 'urine',\n",
              " ',',\n",
              " 'take',\n",
              " 'bathroom',\n",
              " ',',\n",
              " 'empty',\n",
              " 'toilet',\n",
              " '.',\n",
              " 'Wipe',\n",
              " '.',\n",
              " 'Rinse',\n",
              " '.',\n",
              " 'Dry',\n",
              " '.',\n",
              " 'Spray',\n",
              " 'lavender-scented',\n",
              " 'Lysol',\n",
              " '.',\n",
              " 'Return',\n",
              " 'O-ring',\n",
              " '.',\n",
              " 'Cover',\n",
              " '.',\n",
              " 'Lower',\n",
              " 'seat',\n",
              " 'lid',\n",
              " '.',\n",
              " 'Accept',\n",
              " 'love',\n",
              " 'war',\n",
              " 'end',\n",
              " '.',\n",
              " 'Say',\n",
              " ',',\n",
              " 'need',\n",
              " 'anything',\n",
              " 'else',\n",
              " '?',\n",
              " 'She',\n",
              " '’',\n",
              " 'say',\n",
              " ',',\n",
              " 'I',\n",
              " 'could',\n",
              " '’',\n",
              " 'do',\n",
              " ',',\n",
              " '’',\n",
              " 'true',\n",
              " '’',\n",
              " 'fall',\n",
              " 'many',\n",
              " 'time',\n",
              " 'glaucoma',\n",
              " 'vertigo',\n",
              " '.',\n",
              " 'Unwilling',\n",
              " 'wait',\n",
              " ',',\n",
              " '’',\n",
              " 'tip',\n",
              " 'bucket—urine',\n",
              " 'tile',\n",
              " 'rug—',\n",
              " 'half',\n",
              " 'day',\n",
              " '’',\n",
              " 'cleaning',\n",
              " 'aide',\n",
              " 'lift',\n",
              " 'floor',\n",
              " '.',\n",
              " 'Just',\n",
              " 'smile',\n",
              " 'ask',\n",
              " ',',\n",
              " 'want',\n",
              " 'help',\n",
              " 'bed',\n",
              " '?',\n",
              " 'And',\n",
              " 'together',\n",
              " 'begin',\n",
              " 'stretch',\n",
              " 'rumpled',\n",
              " 'sheet',\n",
              " 'place',\n",
              " ',',\n",
              " 'coverlet',\n",
              " 'coral',\n",
              " 'crochet',\n",
              " 'afghan',\n",
              " 'make',\n",
              " 'rest',\n",
              " 'near',\n",
              " 'edge',\n",
              " '.',\n",
              " 'Replace',\n",
              " 'pillow',\n",
              " '.',\n",
              " 'Then',\n",
              " 'help',\n",
              " 'bent',\n",
              " 'body',\n",
              " 'inch',\n",
              " 'toward',\n",
              " 'wheelchair',\n",
              " '.',\n",
              " 'It',\n",
              " '’',\n",
              " 'time',\n",
              " 'shower',\n",
              " '.',\n",
              " 'Today',\n",
              " ',',\n",
              " '’',\n",
              " 'together',\n",
              " 'like',\n",
              " 'two',\n",
              " 'woman',\n",
              " 'French',\n",
              " 'painting',\n",
              " '.',\n",
              " 'Her',\n",
              " 'denture',\n",
              " '’',\n",
              " 'clean',\n",
              " '.']"
            ]
          },
          "metadata": {},
          "execution_count": 17
        }
      ]
    },
    {
      "cell_type": "markdown",
      "source": [
        "Using CountVectorize"
      ],
      "metadata": {
        "id": "fwqmD4VrI29p"
      }
    },
    {
      "cell_type": "code",
      "source": [
        "text2 = ['When you wake from a troubled sleep','after you’ve used the bathroom, don’t go back']"
      ],
      "metadata": {
        "id": "8Qm-SKwdHuSe"
      },
      "execution_count": 30,
      "outputs": []
    },
    {
      "cell_type": "code",
      "source": [
        "from sklearn.feature_extraction.text import CountVectorizer"
      ],
      "metadata": {
        "id": "k51g3mx7JITa"
      },
      "execution_count": 27,
      "outputs": []
    },
    {
      "cell_type": "code",
      "source": [
        "bow2 = CountVectorizer(strip_accents='ascii',lowercase=True,stop_words='english')\n",
        "X = bow2.fit_transform(text2)"
      ],
      "metadata": {
        "id": "DYK3GM1XJYMJ"
      },
      "execution_count": 32,
      "outputs": []
    },
    {
      "cell_type": "code",
      "source": [
        "print(X.toarray())"
      ],
      "metadata": {
        "colab": {
          "base_uri": "https://localhost:8080/"
        },
        "id": "x8yxA3xyKWvK",
        "outputId": "48c18e38-384a-41a1-e8fa-453f5ad74384"
      },
      "execution_count": 33,
      "outputs": [
        {
          "output_type": "stream",
          "name": "stdout",
          "text": [
            "[[0 0 1 1 0 1 0]\n",
            " [1 1 0 0 1 0 1]]\n"
          ]
        }
      ]
    },
    {
      "cell_type": "code",
      "source": [
        "import pandas as pd\n",
        "df = pd.DataFrame(X.toarray(),columns=bow2.get_feature_names_out())"
      ],
      "metadata": {
        "id": "YrNk7zT9K6HZ"
      },
      "execution_count": 36,
      "outputs": []
    },
    {
      "cell_type": "code",
      "source": [
        "df.head()"
      ],
      "metadata": {
        "colab": {
          "base_uri": "https://localhost:8080/",
          "height": 112
        },
        "id": "faOfKiYUMDIk",
        "outputId": "40fce966-e611-40e8-bf80-831503d5ac6d"
      },
      "execution_count": 37,
      "outputs": [
        {
          "output_type": "execute_result",
          "data": {
            "text/plain": [
              "   bathroom  dont  sleep  troubled  used  wake  youve\n",
              "0         0     0      1         1     0     1      0\n",
              "1         1     1      0         0     1     0      1"
            ],
            "text/html": [
              "\n",
              "  <div id=\"df-17b08d5a-607f-4a30-9add-f69ff0a1462f\" class=\"colab-df-container\">\n",
              "    <div>\n",
              "<style scoped>\n",
              "    .dataframe tbody tr th:only-of-type {\n",
              "        vertical-align: middle;\n",
              "    }\n",
              "\n",
              "    .dataframe tbody tr th {\n",
              "        vertical-align: top;\n",
              "    }\n",
              "\n",
              "    .dataframe thead th {\n",
              "        text-align: right;\n",
              "    }\n",
              "</style>\n",
              "<table border=\"1\" class=\"dataframe\">\n",
              "  <thead>\n",
              "    <tr style=\"text-align: right;\">\n",
              "      <th></th>\n",
              "      <th>bathroom</th>\n",
              "      <th>dont</th>\n",
              "      <th>sleep</th>\n",
              "      <th>troubled</th>\n",
              "      <th>used</th>\n",
              "      <th>wake</th>\n",
              "      <th>youve</th>\n",
              "    </tr>\n",
              "  </thead>\n",
              "  <tbody>\n",
              "    <tr>\n",
              "      <th>0</th>\n",
              "      <td>0</td>\n",
              "      <td>0</td>\n",
              "      <td>1</td>\n",
              "      <td>1</td>\n",
              "      <td>0</td>\n",
              "      <td>1</td>\n",
              "      <td>0</td>\n",
              "    </tr>\n",
              "    <tr>\n",
              "      <th>1</th>\n",
              "      <td>1</td>\n",
              "      <td>1</td>\n",
              "      <td>0</td>\n",
              "      <td>0</td>\n",
              "      <td>1</td>\n",
              "      <td>0</td>\n",
              "      <td>1</td>\n",
              "    </tr>\n",
              "  </tbody>\n",
              "</table>\n",
              "</div>\n",
              "    <div class=\"colab-df-buttons\">\n",
              "\n",
              "  <div class=\"colab-df-container\">\n",
              "    <button class=\"colab-df-convert\" onclick=\"convertToInteractive('df-17b08d5a-607f-4a30-9add-f69ff0a1462f')\"\n",
              "            title=\"Convert this dataframe to an interactive table.\"\n",
              "            style=\"display:none;\">\n",
              "\n",
              "  <svg xmlns=\"http://www.w3.org/2000/svg\" height=\"24px\" viewBox=\"0 -960 960 960\">\n",
              "    <path d=\"M120-120v-720h720v720H120Zm60-500h600v-160H180v160Zm220 220h160v-160H400v160Zm0 220h160v-160H400v160ZM180-400h160v-160H180v160Zm440 0h160v-160H620v160ZM180-180h160v-160H180v160Zm440 0h160v-160H620v160Z\"/>\n",
              "  </svg>\n",
              "    </button>\n",
              "\n",
              "  <style>\n",
              "    .colab-df-container {\n",
              "      display:flex;\n",
              "      gap: 12px;\n",
              "    }\n",
              "\n",
              "    .colab-df-convert {\n",
              "      background-color: #E8F0FE;\n",
              "      border: none;\n",
              "      border-radius: 50%;\n",
              "      cursor: pointer;\n",
              "      display: none;\n",
              "      fill: #1967D2;\n",
              "      height: 32px;\n",
              "      padding: 0 0 0 0;\n",
              "      width: 32px;\n",
              "    }\n",
              "\n",
              "    .colab-df-convert:hover {\n",
              "      background-color: #E2EBFA;\n",
              "      box-shadow: 0px 1px 2px rgba(60, 64, 67, 0.3), 0px 1px 3px 1px rgba(60, 64, 67, 0.15);\n",
              "      fill: #174EA6;\n",
              "    }\n",
              "\n",
              "    .colab-df-buttons div {\n",
              "      margin-bottom: 4px;\n",
              "    }\n",
              "\n",
              "    [theme=dark] .colab-df-convert {\n",
              "      background-color: #3B4455;\n",
              "      fill: #D2E3FC;\n",
              "    }\n",
              "\n",
              "    [theme=dark] .colab-df-convert:hover {\n",
              "      background-color: #434B5C;\n",
              "      box-shadow: 0px 1px 3px 1px rgba(0, 0, 0, 0.15);\n",
              "      filter: drop-shadow(0px 1px 2px rgba(0, 0, 0, 0.3));\n",
              "      fill: #FFFFFF;\n",
              "    }\n",
              "  </style>\n",
              "\n",
              "    <script>\n",
              "      const buttonEl =\n",
              "        document.querySelector('#df-17b08d5a-607f-4a30-9add-f69ff0a1462f button.colab-df-convert');\n",
              "      buttonEl.style.display =\n",
              "        google.colab.kernel.accessAllowed ? 'block' : 'none';\n",
              "\n",
              "      async function convertToInteractive(key) {\n",
              "        const element = document.querySelector('#df-17b08d5a-607f-4a30-9add-f69ff0a1462f');\n",
              "        const dataTable =\n",
              "          await google.colab.kernel.invokeFunction('convertToInteractive',\n",
              "                                                    [key], {});\n",
              "        if (!dataTable) return;\n",
              "\n",
              "        const docLinkHtml = 'Like what you see? Visit the ' +\n",
              "          '<a target=\"_blank\" href=https://colab.research.google.com/notebooks/data_table.ipynb>data table notebook</a>'\n",
              "          + ' to learn more about interactive tables.';\n",
              "        element.innerHTML = '';\n",
              "        dataTable['output_type'] = 'display_data';\n",
              "        await google.colab.output.renderOutput(dataTable, element);\n",
              "        const docLink = document.createElement('div');\n",
              "        docLink.innerHTML = docLinkHtml;\n",
              "        element.appendChild(docLink);\n",
              "      }\n",
              "    </script>\n",
              "  </div>\n",
              "\n",
              "\n",
              "    <div id=\"df-c906a35a-ea79-4c72-9e95-edd0cdda780b\">\n",
              "      <button class=\"colab-df-quickchart\" onclick=\"quickchart('df-c906a35a-ea79-4c72-9e95-edd0cdda780b')\"\n",
              "                title=\"Suggest charts\"\n",
              "                style=\"display:none;\">\n",
              "\n",
              "<svg xmlns=\"http://www.w3.org/2000/svg\" height=\"24px\"viewBox=\"0 0 24 24\"\n",
              "     width=\"24px\">\n",
              "    <g>\n",
              "        <path d=\"M19 3H5c-1.1 0-2 .9-2 2v14c0 1.1.9 2 2 2h14c1.1 0 2-.9 2-2V5c0-1.1-.9-2-2-2zM9 17H7v-7h2v7zm4 0h-2V7h2v10zm4 0h-2v-4h2v4z\"/>\n",
              "    </g>\n",
              "</svg>\n",
              "      </button>\n",
              "\n",
              "<style>\n",
              "  .colab-df-quickchart {\n",
              "      --bg-color: #E8F0FE;\n",
              "      --fill-color: #1967D2;\n",
              "      --hover-bg-color: #E2EBFA;\n",
              "      --hover-fill-color: #174EA6;\n",
              "      --disabled-fill-color: #AAA;\n",
              "      --disabled-bg-color: #DDD;\n",
              "  }\n",
              "\n",
              "  [theme=dark] .colab-df-quickchart {\n",
              "      --bg-color: #3B4455;\n",
              "      --fill-color: #D2E3FC;\n",
              "      --hover-bg-color: #434B5C;\n",
              "      --hover-fill-color: #FFFFFF;\n",
              "      --disabled-bg-color: #3B4455;\n",
              "      --disabled-fill-color: #666;\n",
              "  }\n",
              "\n",
              "  .colab-df-quickchart {\n",
              "    background-color: var(--bg-color);\n",
              "    border: none;\n",
              "    border-radius: 50%;\n",
              "    cursor: pointer;\n",
              "    display: none;\n",
              "    fill: var(--fill-color);\n",
              "    height: 32px;\n",
              "    padding: 0;\n",
              "    width: 32px;\n",
              "  }\n",
              "\n",
              "  .colab-df-quickchart:hover {\n",
              "    background-color: var(--hover-bg-color);\n",
              "    box-shadow: 0 1px 2px rgba(60, 64, 67, 0.3), 0 1px 3px 1px rgba(60, 64, 67, 0.15);\n",
              "    fill: var(--button-hover-fill-color);\n",
              "  }\n",
              "\n",
              "  .colab-df-quickchart-complete:disabled,\n",
              "  .colab-df-quickchart-complete:disabled:hover {\n",
              "    background-color: var(--disabled-bg-color);\n",
              "    fill: var(--disabled-fill-color);\n",
              "    box-shadow: none;\n",
              "  }\n",
              "\n",
              "  .colab-df-spinner {\n",
              "    border: 2px solid var(--fill-color);\n",
              "    border-color: transparent;\n",
              "    border-bottom-color: var(--fill-color);\n",
              "    animation:\n",
              "      spin 1s steps(1) infinite;\n",
              "  }\n",
              "\n",
              "  @keyframes spin {\n",
              "    0% {\n",
              "      border-color: transparent;\n",
              "      border-bottom-color: var(--fill-color);\n",
              "      border-left-color: var(--fill-color);\n",
              "    }\n",
              "    20% {\n",
              "      border-color: transparent;\n",
              "      border-left-color: var(--fill-color);\n",
              "      border-top-color: var(--fill-color);\n",
              "    }\n",
              "    30% {\n",
              "      border-color: transparent;\n",
              "      border-left-color: var(--fill-color);\n",
              "      border-top-color: var(--fill-color);\n",
              "      border-right-color: var(--fill-color);\n",
              "    }\n",
              "    40% {\n",
              "      border-color: transparent;\n",
              "      border-right-color: var(--fill-color);\n",
              "      border-top-color: var(--fill-color);\n",
              "    }\n",
              "    60% {\n",
              "      border-color: transparent;\n",
              "      border-right-color: var(--fill-color);\n",
              "    }\n",
              "    80% {\n",
              "      border-color: transparent;\n",
              "      border-right-color: var(--fill-color);\n",
              "      border-bottom-color: var(--fill-color);\n",
              "    }\n",
              "    90% {\n",
              "      border-color: transparent;\n",
              "      border-bottom-color: var(--fill-color);\n",
              "    }\n",
              "  }\n",
              "</style>\n",
              "\n",
              "      <script>\n",
              "        async function quickchart(key) {\n",
              "          const quickchartButtonEl =\n",
              "            document.querySelector('#' + key + ' button');\n",
              "          quickchartButtonEl.disabled = true;  // To prevent multiple clicks.\n",
              "          quickchartButtonEl.classList.add('colab-df-spinner');\n",
              "          try {\n",
              "            const charts = await google.colab.kernel.invokeFunction(\n",
              "                'suggestCharts', [key], {});\n",
              "          } catch (error) {\n",
              "            console.error('Error during call to suggestCharts:', error);\n",
              "          }\n",
              "          quickchartButtonEl.classList.remove('colab-df-spinner');\n",
              "          quickchartButtonEl.classList.add('colab-df-quickchart-complete');\n",
              "        }\n",
              "        (() => {\n",
              "          let quickchartButtonEl =\n",
              "            document.querySelector('#df-c906a35a-ea79-4c72-9e95-edd0cdda780b button');\n",
              "          quickchartButtonEl.style.display =\n",
              "            google.colab.kernel.accessAllowed ? 'block' : 'none';\n",
              "        })();\n",
              "      </script>\n",
              "    </div>\n",
              "\n",
              "    </div>\n",
              "  </div>\n"
            ],
            "application/vnd.google.colaboratory.intrinsic+json": {
              "type": "dataframe",
              "variable_name": "df",
              "summary": "{\n  \"name\": \"df\",\n  \"rows\": 2,\n  \"fields\": [\n    {\n      \"column\": \"bathroom\",\n      \"properties\": {\n        \"dtype\": \"number\",\n        \"std\": 0,\n        \"min\": 0,\n        \"max\": 1,\n        \"num_unique_values\": 2,\n        \"samples\": [\n          1,\n          0\n        ],\n        \"semantic_type\": \"\",\n        \"description\": \"\"\n      }\n    },\n    {\n      \"column\": \"dont\",\n      \"properties\": {\n        \"dtype\": \"number\",\n        \"std\": 0,\n        \"min\": 0,\n        \"max\": 1,\n        \"num_unique_values\": 2,\n        \"samples\": [\n          1,\n          0\n        ],\n        \"semantic_type\": \"\",\n        \"description\": \"\"\n      }\n    },\n    {\n      \"column\": \"sleep\",\n      \"properties\": {\n        \"dtype\": \"number\",\n        \"std\": 0,\n        \"min\": 0,\n        \"max\": 1,\n        \"num_unique_values\": 2,\n        \"samples\": [\n          0,\n          1\n        ],\n        \"semantic_type\": \"\",\n        \"description\": \"\"\n      }\n    },\n    {\n      \"column\": \"troubled\",\n      \"properties\": {\n        \"dtype\": \"number\",\n        \"std\": 0,\n        \"min\": 0,\n        \"max\": 1,\n        \"num_unique_values\": 2,\n        \"samples\": [\n          0,\n          1\n        ],\n        \"semantic_type\": \"\",\n        \"description\": \"\"\n      }\n    },\n    {\n      \"column\": \"used\",\n      \"properties\": {\n        \"dtype\": \"number\",\n        \"std\": 0,\n        \"min\": 0,\n        \"max\": 1,\n        \"num_unique_values\": 2,\n        \"samples\": [\n          1,\n          0\n        ],\n        \"semantic_type\": \"\",\n        \"description\": \"\"\n      }\n    },\n    {\n      \"column\": \"wake\",\n      \"properties\": {\n        \"dtype\": \"number\",\n        \"std\": 0,\n        \"min\": 0,\n        \"max\": 1,\n        \"num_unique_values\": 2,\n        \"samples\": [\n          0,\n          1\n        ],\n        \"semantic_type\": \"\",\n        \"description\": \"\"\n      }\n    },\n    {\n      \"column\": \"youve\",\n      \"properties\": {\n        \"dtype\": \"number\",\n        \"std\": 0,\n        \"min\": 0,\n        \"max\": 1,\n        \"num_unique_values\": 2,\n        \"samples\": [\n          1,\n          0\n        ],\n        \"semantic_type\": \"\",\n        \"description\": \"\"\n      }\n    }\n  ]\n}"
            }
          },
          "metadata": {},
          "execution_count": 37
        }
      ]
    },
    {
      "cell_type": "code",
      "source": [],
      "metadata": {
        "id": "Rpha_yShMWXl"
      },
      "execution_count": null,
      "outputs": []
    }
  ]
}